{
 "cells": [
  {
   "cell_type": "markdown",
   "metadata": {},
   "source": [
    "### Buscando dados das marcas pelo ano"
   ]
  },
  {
   "cell_type": "code",
   "execution_count": null,
   "metadata": {},
   "outputs": [],
   "source": [
    "import pandas as pd\n",
    "fossil_fuel = pd.read_csv('./initial-data/consumption-fossilfuels.csv', sep=',')\n",
    "\n",
    "make_year = fossil_fuel[#(fossil_fuel['Model year']==2021) & \n",
    "                        (fossil_fuel['Make']=='BMW') &\n",
    "                        (fossil_fuel['Fuel.type']=='D')]\n",
    "\n",
    "t = fossil_fuel[fossil_fuel['Fuel.type']=='X']\n",
    "\n",
    "display(make_year)"
   ]
  },
  {
   "cell_type": "code",
   "execution_count": null,
   "metadata": {},
   "outputs": [],
   "source": [
    "import pandas as pd\n",
    "pt_2018 = pd.read_csv('./modificated-data/PT-2018.csv', sep=',', low_memory=False)\n",
    "pt_2019 = pd.read_csv('./modificated-data/PT-2019.csv', sep=',')\n",
    "pt_2020 = pd.read_csv('./modificated-data/PT-2020.csv', sep=',')\n",
    "pt_2021 = pd.read_csv('./modificated-data/PT-2021.csv', sep=',', low_memory=False)\n",
    "pt_2022 = pd.read_csv('./modificated-data/PT-2022.csv', sep=',')\n",
    "\n",
    "fuels = []\n",
    "for df in [pt_2018, pt_2019, pt_2020, pt_2021, pt_2022]:\n",
    "    fuels_types = df['Fuel type'].drop_duplicates().to_list()\n",
    "    for fuel in fuels_types:\n",
    "        fuels.append(fuel)\n",
    "\n",
    "print(list(set(fuels)))"
   ]
  },
  {
   "cell_type": "code",
   "execution_count": null,
   "metadata": {},
   "outputs": [],
   "source": [
    "import pandas as pd\n",
    "fossil_fuel = pd.read_csv('./initial-data/consumption-fossilfuels.csv', sep=',')\n",
    "\n",
    "make_year = fossil_fuel[#(fossil_fuel['Model year']==2022) & \n",
    "                        (fossil_fuel['Make']=='Ford') &\n",
    "                        (fossil_fuel['Fuel.type']=='D')]\n",
    "\n",
    "print(make_year[['Model year','Make','Model','Fuel.type']].to_markdown())"
   ]
  },
  {
   "cell_type": "code",
   "execution_count": null,
   "metadata": {},
   "outputs": [],
   "source": [
    "import pandas as pd\n",
    "eletrics = pd.read_csv('./initial-data/consumption-eletrics.csv', sep=',')\n",
    "\n",
    "make_year = eletrics[(eletrics['Model year']==2018) &\n",
    "                     (eletrics['Make']=='Ford')]\n",
    "\n",
    "print(make_year[['Model year','Make','Model','Fuel type']].to_markdown())"
   ]
  },
  {
   "cell_type": "code",
   "execution_count": null,
   "metadata": {},
   "outputs": [],
   "source": [
    "import pandas as pd\n",
    "\n",
    "hybrids = pd.read_csv('./modificated-data/consumption-hydrids.csv', sep=',')\n",
    "\n",
    "make_year = hybrids[hybrids['Model']=='530e']\n",
    "print(make_year[['Model year','Make','Model','Combined Le/100 km']].to_markdown())"
   ]
  }
 ],
 "metadata": {
  "kernelspec": {
   "display_name": "Python 3",
   "language": "python",
   "name": "python3"
  },
  "language_info": {
   "codemirror_mode": {
    "name": "ipython",
    "version": 3
   },
   "file_extension": ".py",
   "mimetype": "text/x-python",
   "name": "python",
   "nbconvert_exporter": "python",
   "pygments_lexer": "ipython3",
   "version": "3.12.0"
  }
 },
 "nbformat": 4,
 "nbformat_minor": 2
}
