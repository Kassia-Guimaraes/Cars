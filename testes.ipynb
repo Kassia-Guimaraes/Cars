{
 "cells": [
  {
   "cell_type": "markdown",
   "metadata": {},
   "source": [
    "### Buscando dados das marcas pelo ano"
   ]
  },
  {
   "cell_type": "code",
   "execution_count": null,
   "metadata": {},
   "outputs": [],
   "source": [
    "import pandas as pd\n",
    "fossil_fuel = pd.read_csv('./initial-data/consumption-fossilfuels.csv', sep=',')\n",
    "\n",
    "make_year = fossil_fuel[#(fossil_fuel['Model year']==2021) & \n",
    "                        (fossil_fuel['Make']=='BMW') &\n",
    "                        (fossil_fuel['Fuel.type']=='D')]\n",
    "\n",
    "t = fossil_fuel[fossil_fuel['Fuel.type']=='X']\n",
    "\n",
    "display(make_year)"
   ]
  },
  {
   "cell_type": "code",
   "execution_count": null,
   "metadata": {},
   "outputs": [],
   "source": [
    "import pandas as pd\n",
    "pt_2018 = pd.read_csv('./modificated-data/PT-2018.csv', sep=',', low_memory=False)\n",
    "pt_2019 = pd.read_csv('./modificated-data/PT-2019.csv', sep=',')\n",
    "pt_2020 = pd.read_csv('./modificated-data/PT-2020.csv', sep=',')\n",
    "pt_2021 = pd.read_csv('./modificated-data/PT-2021.csv', sep=',', low_memory=False)\n",
    "pt_2022 = pd.read_csv('./modificated-data/PT-2022.csv', sep=',')\n",
    "\n",
    "fuels = []\n",
    "for df in [pt_2018, pt_2019, pt_2020, pt_2021, pt_2022]:\n",
    "    fuels_types = df['Fuel type'].drop_duplicates().to_list()\n",
    "    for fuel in fuels_types:\n",
    "        fuels.append(fuel)\n",
    "\n"
   ]
  },
  {
   "cell_type": "code",
   "execution_count": null,
   "metadata": {},
   "outputs": [],
   "source": [
    "import pandas as pd\n",
    "fossil_fuel = pd.read_csv('./initial-data/consumption-fossilfuels.csv', sep=',')\n",
    "\n",
    "make_year = fossil_fuel[#(fossil_fuel['Model year']==2022) & \n",
    "                        (fossil_fuel['Make']=='Ford') &\n",
    "                        (fossil_fuel['Fuel.type']=='D')]\n",
    "\n",
    "print(make_year[['Model year','Make','Model','Fuel.type']].to_markdown())"
   ]
  },
  {
   "cell_type": "code",
   "execution_count": null,
   "metadata": {},
   "outputs": [],
   "source": [
    "import pandas as pd\n",
    "eletrics = pd.read_csv('./initial-data/consumption-eletrics.csv', sep=',')\n",
    "\n",
    "make_year = eletrics[(eletrics['Model year']==2018) &\n",
    "                     (eletrics['Make']=='Ford')]\n",
    "\n",
    "print(make_year[['Model year','Make','Model','Fuel type']].to_markdown())"
   ]
  },
  {
   "cell_type": "code",
   "execution_count": null,
   "metadata": {},
   "outputs": [],
   "source": [
    "import pandas as pd\n",
    "\n",
    "hybrids = pd.read_csv('./modificated-data/consumption-hydrids.csv', sep=',')\n",
    "\n",
    "make_year = hybrids[hybrids['Model']=='530e']\n",
    "print(make_year[['Model year','Make','Model','Combined Le/100 km']].to_markdown())"
   ]
  },
  {
   "cell_type": "markdown",
   "metadata": {},
   "source": [
    "### Juntando todos os csvs"
   ]
  },
  {
   "cell_type": "code",
   "execution_count": null,
   "metadata": {},
   "outputs": [],
   "source": [
    "import pandas as pd\n",
    "\n",
    "pt_2018 = pd.read_csv('./modificated-data/PT-2018.csv', sep=',', low_memory=False)\n",
    "pt_2019 = pd.read_csv('./modificated-data/PT-2019.csv', sep=',')\n",
    "pt_2020 = pd.read_csv('./modificated-data/PT-2020.csv', sep=',')\n",
    "pt_2021 = pd.read_csv('./modificated-data/PT-2021.csv', sep=',', low_memory=False)\n",
    "pt_2022 = pd.read_csv('./modificated-data/PT-2022.csv', sep=',')\n",
    "\n",
    "teste = pd.concat([pt_2018, pt_2019, pt_2020, pt_2021, pt_2022], ignore_index=True)\n",
    "\n",
    "eletric_price = pd.read_csv('./initial-data/cars-price/price-eletrics.csv', sep=',')\n",
    "fossil_price = pd.read_csv('./initial-data/cars-price/price-fuelfossil.csv', sep=',')\n",
    "hybrids_price = pd.read_csv('./initial-data/cars-price/price-hybrids.csv', sep=',')\n",
    "\n",
    "used_models = []\n",
    "used_makes = []\n",
    "for df in [eletric_price, fossil_price, hybrids_price]:\n",
    "\n",
    "    for element in df['Model'].to_list():\n",
    "        used_models.append(element)\n",
    "\n",
    "for i in used_models:\n",
    "    teste.drop(teste[teste['Model'] == i].index, inplace=True)\n",
    "\n",
    "teste.to_csv('./teste.csv', index=False)"
   ]
  },
  {
   "cell_type": "code",
   "execution_count": 62,
   "metadata": {},
   "outputs": [
    {
     "data": {
      "text/html": [
       "<div>\n",
       "<style scoped>\n",
       "    .dataframe tbody tr th:only-of-type {\n",
       "        vertical-align: middle;\n",
       "    }\n",
       "\n",
       "    .dataframe tbody tr th {\n",
       "        vertical-align: top;\n",
       "    }\n",
       "\n",
       "    .dataframe thead th {\n",
       "        text-align: right;\n",
       "    }\n",
       "</style>\n",
       "<table border=\"1\" class=\"dataframe\">\n",
       "  <thead>\n",
       "    <tr style=\"text-align: right;\">\n",
       "      <th></th>\n",
       "      <th>Make</th>\n",
       "      <th>Model</th>\n",
       "      <th>Fuel type</th>\n",
       "      <th>Year</th>\n",
       "    </tr>\n",
       "  </thead>\n",
       "  <tbody>\n",
       "    <tr>\n",
       "      <th>447337</th>\n",
       "      <td>SMART</td>\n",
       "      <td>EQ FORFOUR</td>\n",
       "      <td>E</td>\n",
       "      <td>2020</td>\n",
       "    </tr>\n",
       "    <tr>\n",
       "      <th>447349</th>\n",
       "      <td>SMART</td>\n",
       "      <td>EQ FORTWO COUPE</td>\n",
       "      <td>E</td>\n",
       "      <td>2020</td>\n",
       "    </tr>\n",
       "    <tr>\n",
       "      <th>448392</th>\n",
       "      <td>SMART</td>\n",
       "      <td>EQ FORTWO CABRIO</td>\n",
       "      <td>E</td>\n",
       "      <td>2020</td>\n",
       "    </tr>\n",
       "  </tbody>\n",
       "</table>\n",
       "</div>"
      ],
      "text/plain": [
       "         Make             Model Fuel type  Year\n",
       "447337  SMART        EQ FORFOUR         E  2020\n",
       "447349  SMART   EQ FORTWO COUPE         E  2020\n",
       "448392  SMART  EQ FORTWO CABRIO         E  2020"
      ]
     },
     "metadata": {},
     "output_type": "display_data"
    }
   ],
   "source": [
    "import pandas as pd \n",
    "\n",
    "teste = pd.read_csv('./teste.csv', sep=',')\n",
    "\n",
    "aa = teste[(teste['Year']==2020) &\n",
    "            (teste['Make']=='SMART') &           \n",
    "           (teste['Fuel type']=='E')]\n",
    "\n",
    "display(aa[['Make','Model','Fuel type','Year']].drop_duplicates())"
   ]
  }
 ],
 "metadata": {
  "kernelspec": {
   "display_name": "Python 3",
   "language": "python",
   "name": "python3"
  },
  "language_info": {
   "codemirror_mode": {
    "name": "ipython",
    "version": 3
   },
   "file_extension": ".py",
   "mimetype": "text/x-python",
   "name": "python",
   "nbconvert_exporter": "python",
   "pygments_lexer": "ipython3",
   "version": "3.12.0"
  }
 },
 "nbformat": 4,
 "nbformat_minor": 2
}
