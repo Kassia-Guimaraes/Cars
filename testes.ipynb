{
 "cells": [
  {
   "cell_type": "markdown",
   "metadata": {},
   "source": [
    "### Buscando dados das marcas pelo ano"
   ]
  },
  {
   "cell_type": "code",
   "execution_count": null,
   "metadata": {},
   "outputs": [],
   "source": [
    "import pandas as pd\n",
    "fossil_fuel = pd.read_csv('./initial-data/consumption-fossilfuels.csv', sep=',')\n",
    "\n",
    "make_year = fossil_fuel[#(fossil_fuel['Model year']==2021) & \n",
    "                        (fossil_fuel['Make']=='BMW') &\n",
    "                        (fossil_fuel['Fuel.type']=='D')]\n",
    "\n",
    "t = fossil_fuel[fossil_fuel['Fuel.type']=='X']\n",
    "\n",
    "display(make_year)"
   ]
  },
  {
   "cell_type": "code",
   "execution_count": null,
   "metadata": {},
   "outputs": [],
   "source": [
    "import pandas as pd\n",
    "pt_2018 = pd.read_csv('./modificated-data/PT-2018.csv', sep=',', low_memory=False)\n",
    "pt_2019 = pd.read_csv('./modificated-data/PT-2019.csv', sep=',')\n",
    "pt_2020 = pd.read_csv('./modificated-data/PT-2020.csv', sep=',')\n",
    "pt_2021 = pd.read_csv('./modificated-data/PT-2021.csv', sep=',', low_memory=False)\n",
    "pt_2022 = pd.read_csv('./modificated-data/PT-2022.csv', sep=',')\n",
    "\n",
    "fuels = []\n",
    "for df in [pt_2018, pt_2019, pt_2020, pt_2021, pt_2022]:\n",
    "    fuels_types = df['Fuel type'].drop_duplicates().to_list()\n",
    "    for fuel in fuels_types:\n",
    "        fuels.append(fuel)\n",
    "\n"
   ]
  },
  {
   "cell_type": "code",
   "execution_count": null,
   "metadata": {},
   "outputs": [],
   "source": [
    "import pandas as pd\n",
    "fossil_fuel = pd.read_csv('./initial-data/consumption-fossilfuels.csv', sep=',')\n",
    "\n",
    "make_year = fossil_fuel[#(fossil_fuel['Model year']==2022) & \n",
    "                        (fossil_fuel['Make']=='Ford') &\n",
    "                        (fossil_fuel['Fuel.type']=='D')]\n",
    "\n",
    "print(make_year[['Model year','Make','Model','Fuel.type']].to_markdown())"
   ]
  },
  {
   "cell_type": "code",
   "execution_count": null,
   "metadata": {},
   "outputs": [],
   "source": [
    "import pandas as pd\n",
    "eletrics = pd.read_csv('./initial-data/consumption-eletrics.csv', sep=',')\n",
    "\n",
    "make_year = eletrics[(eletrics['Model year']==2018) &\n",
    "                     (eletrics['Make']=='Ford')]\n",
    "\n",
    "print(make_year[['Model year','Make','Model','Fuel type']].to_markdown())"
   ]
  },
  {
   "cell_type": "code",
   "execution_count": null,
   "metadata": {},
   "outputs": [],
   "source": [
    "import pandas as pd\n",
    "\n",
    "hybrids = pd.read_csv('./modificated-data/consumption-hydrids.csv', sep=',')\n",
    "\n",
    "make_year = hybrids[hybrids['Model']=='530e']\n",
    "print(make_year[['Model year','Make','Model','Combined Le/100 km']].to_markdown())"
   ]
  },
  {
   "cell_type": "markdown",
   "metadata": {},
   "source": [
    "### Juntando todos os csvs"
   ]
  },
  {
   "cell_type": "code",
   "execution_count": null,
   "metadata": {},
   "outputs": [],
   "source": [
    "import pandas as pd\n",
    "\n",
    "pt_2018 = pd.read_csv('./modificated-data/PT-2018.csv', sep=',', low_memory=False)\n",
    "pt_2019 = pd.read_csv('./modificated-data/PT-2019.csv', sep=',')\n",
    "pt_2020 = pd.read_csv('./modificated-data/PT-2020.csv', sep=',')\n",
    "pt_2021 = pd.read_csv('./modificated-data/PT-2021.csv', sep=',', low_memory=False)\n",
    "pt_2022 = pd.read_csv('./modificated-data/PT-2022.csv', sep=',')\n",
    "\n",
    "teste = pd.concat([pt_2018, pt_2019, pt_2020, pt_2021, pt_2022], ignore_index=True)\n",
    "\n",
    "eletric_price = pd.read_csv('./initial-data/cars-price/price-eletrics.csv', sep=',')\n",
    "fossil_price = pd.read_csv('./initial-data/cars-price/price-fuelfossil.csv', sep=',')\n",
    "hybrids_price = pd.read_csv('./initial-data/cars-price/price-hybrids.csv', sep=',')\n",
    "\n",
    "used_models = []\n",
    "used_makes = []\n",
    "for df in [eletric_price, fossil_price, hybrids_price]:\n",
    "\n",
    "    for element in df['Model'].to_list():\n",
    "        used_models.append(element)\n",
    "\n",
    "for i in used_models:\n",
    "    teste.drop(teste[teste['Model'] == i].index, inplace=True)\n",
    "\n",
    "teste.to_csv('./teste.csv', index=False)"
   ]
  },
  {
   "cell_type": "code",
   "execution_count": null,
   "metadata": {},
   "outputs": [],
   "source": [
    "import pandas as pd \n",
    "\n",
    "teste = pd.read_csv('./teste.csv', sep=',')\n",
    "\n",
    "aa = teste[(teste['Year']==2020) &\n",
    "            (teste['Make']=='SMART') &           \n",
    "           (teste['Fuel type']=='E')]\n",
    "\n",
    "display(aa[['Make','Model','Fuel type','Year']].drop_duplicates())"
   ]
  },
  {
   "cell_type": "markdown",
   "metadata": {},
   "source": [
    "### Dataframe Vazio"
   ]
  },
  {
   "cell_type": "code",
   "execution_count": null,
   "metadata": {},
   "outputs": [],
   "source": [
    "import pandas as pd\n",
    "\n",
    "# Crie um dataframe vazio usando a função pd.empty_df()\n",
    "df = pd.DataFrame(dtype='object', columns=['Nome', 'Idade', 'Cidade'])\n",
    "\n",
    "# Verifique se o dataframe está vazio\n",
    "print(df)\n"
   ]
  },
  {
   "cell_type": "markdown",
   "metadata": {},
   "source": [
    "### Calculando queda e aumento de valores"
   ]
  },
  {
   "cell_type": "markdown",
   "metadata": {},
   "source": [
    "Quantidade de Carros em Circulação de Acordo com o Ano"
   ]
  },
  {
   "cell_type": "code",
   "execution_count": null,
   "metadata": {},
   "outputs": [],
   "source": [
    "cars_2018 = 226538\n",
    "cars_2019 = 220790\n",
    "cars_2020 = 142959\n",
    "cars_2021 = 142581\n",
    "cars_2022 = 150614"
   ]
  },
  {
   "cell_type": "code",
   "execution_count": 3,
   "metadata": {},
   "outputs": [
    {
     "data": {
      "text/plain": [
       "98.57"
      ]
     },
     "execution_count": 3,
     "metadata": {},
     "output_type": "execute_result"
    }
   ],
   "source": [
    "def percentage(inicial, final):\n",
    "    \n",
    "    if inicial < final:\n",
    "        result = ((final / inicial) * 100) - 100\n",
    "        return round(result,2)\n",
    "    \n",
    "    else:\n",
    "        result = ((inicial - final) / inicial) * -100\n",
    "        return round(result,2)\n",
    "    \n",
    "percentage(70, 139)"
   ]
  },
  {
   "cell_type": "code",
   "execution_count": null,
   "metadata": {},
   "outputs": [],
   "source": [
    "def proporcao(observados, tamanho_amostra):\n",
    "    result = (observados * 100) / tamanho_amostra\n",
    "    return round(result,2)\n",
    "\n",
    "proporcao(17958+16086, cars_2022)\n",
    "# gasolina 95311 -> 42.07\n",
    "# diesel 122935 -> 54.27\n",
    "# eletrico + hibrido 3874+4418 -> 3.66"
   ]
  }
 ],
 "metadata": {
  "kernelspec": {
   "display_name": "Python 3",
   "language": "python",
   "name": "python3"
  },
  "language_info": {
   "codemirror_mode": {
    "name": "ipython",
    "version": 3
   },
   "file_extension": ".py",
   "mimetype": "text/x-python",
   "name": "python",
   "nbconvert_exporter": "python",
   "pygments_lexer": "ipython3",
   "version": "3.12.0"
  }
 },
 "nbformat": 4,
 "nbformat_minor": 2
}
